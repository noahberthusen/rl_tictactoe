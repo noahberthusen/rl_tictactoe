{
 "cells": [
  {
   "cell_type": "code",
   "execution_count": 1,
   "metadata": {},
   "outputs": [],
   "source": [
    "import numpy as np\n",
    "import random\n",
    "import json"
   ]
  },
  {
   "cell_type": "code",
   "execution_count": 2,
   "metadata": {},
   "outputs": [],
   "source": [
    "#Basic tic tac toe class\n",
    "class ttt:\n",
    "    def __init__(self):\n",
    "        self.board = np.array([None] * 9)\n",
    "\n",
    "    @staticmethod\n",
    "    def check_for_win(board):\n",
    "        WIN_STATES = [\n",
    "            (0,1,2),\n",
    "            (3,4,5),\n",
    "            (6,7,8),\n",
    "            (0,3,6),\n",
    "            (1,4,7),\n",
    "            (2,5,8),\n",
    "            (0,4,8),\n",
    "            (2,4,6)\n",
    "        ]\n",
    "\n",
    "        for a, b, c in WIN_STATES:\n",
    "            if board[a] == board[b] == board[c] and board[a] == 1:\n",
    "                return 100\n",
    "            elif board[a] == board[b] == board[c] and board[a] == 2:\n",
    "                return -100\n",
    "        if len(ttt.legal_moves(board)) == 0:\n",
    "            return 50\n",
    "        else:\n",
    "            return 0\n",
    "    \n",
    "    @staticmethod\n",
    "    def legal_moves(board):\n",
    "        return np.asarray(np.where(board == None)).flatten()\n",
    "\n",
    "    def update_board(self, player, move):\n",
    "        self.board[move] = player\n",
    "        return self.check_for_win(self.board)      \n",
    "\n",
    "    @staticmethod\n",
    "    def display_board(board):\n",
    "        def convert_board(board):\n",
    "            readable_board = [' '] * 9\n",
    "            for i in range(len(board)):\n",
    "                if board[i] == 1:\n",
    "                    readable_board[i] = 'X'\n",
    "                elif board[i] == 2:\n",
    "                    readable_board[i] = 'O'\n",
    "            return readable_board\n",
    "        board = convert_board(board)\n",
    "        print(' {:1} | {:1} | {:1}'.format(board[0],board[1],board[2]))\n",
    "        print('-----------')\n",
    "        print(' {:1} | {:1} | {:1}'.format(board[3],board[4],board[5]))\n",
    "        print('-----------')\n",
    "        print(' {:1} | {:1} | {:1}'.format(board[6],board[7],board[8]))"
   ]
  },
  {
   "cell_type": "code",
   "execution_count": 3,
   "metadata": {},
   "outputs": [],
   "source": [
    "from IPython.display import display, HTML\n",
    "from base64 import b64encode\n",
    "from io import BytesIO\n",
    "import seaborn as sns\n",
    "import matplotlib.pyplot as plt\n",
    "\n",
    "def display_ai(board, q):\n",
    "    def convert_board(board):\n",
    "            readable_board = [' '] * 9\n",
    "            for i in range(len(board)):\n",
    "                if board[i] == 1:\n",
    "                    readable_board[i] = 'X'\n",
    "                elif board[i] == 2:\n",
    "                    readable_board[i] = 'O'\n",
    "                else:\n",
    "                    readable_board[i] = '&blk14;'\n",
    "            return readable_board\n",
    "    board = convert_board(board)    \n",
    "    heatmap = [[q[0], q[1], q[2]], [q[3], q[4], q[5]], [q[6], q[7], q[8]]]\n",
    "    board = ['{:1} | {:1} | {:1}'.format(board[0],board[1],board[2]),\n",
    "             '-----------',\n",
    "             '{:1} | {:1} | {:1}'.format(board[3],board[4],board[5]),\n",
    "             '-----------',\n",
    "             '{:1} | {:1} | {:1}'.format(board[6],board[7],board[8])]\n",
    "    \n",
    "    hm = sns.heatmap(heatmap, cmap=sns.diverging_palette(10, 220, sep=80, n=100), cbar_kws={'label': 'Expected Reward'})\n",
    "    figdata = BytesIO()\n",
    "    plt.savefig(figdata, format='png')\n",
    "    plt.clf()\n",
    "    datatable = '<table><tr><td>{1}<br/>{2}<br/>{3}<br/>{4}<br/>{5}</td><td><img src=\"data:image/png;base64,{0}\"/></td></tr></table>'.format(b64encode(figdata.getvalue()).decode(),\n",
    "                                                                                                                                             board[0], board[1], board[2], board[3], board[4])\n",
    "    display(HTML(datatable))     "
   ]
  },
  {
   "cell_type": "code",
   "execution_count": 4,
   "metadata": {},
   "outputs": [],
   "source": [
    "def human_play():\n",
    "#     or 'aifirst.json'\n",
    "#     or 'qtables.json'\n",
    "    with open('randomfirst.json') as f:\n",
    "        q = json.load(f)\n",
    "    game = ttt()\n",
    "\n",
    "    def p_turn(game):\n",
    "        def new_q(q, moves):\n",
    "            new_q = [0] * 9\n",
    "            for i in range(len(q)):\n",
    "                if i not in moves:\n",
    "                    new_q[i] = -200\n",
    "                else:\n",
    "                    new_q[i] = q[i]\n",
    "            return new_q\n",
    "\n",
    "        legal_moves = ttt.legal_moves(game.board)\n",
    "        old_board = game.board.copy() \n",
    "        display_ai(old_board, q[str(old_board)])\n",
    "#         print(q[str(game.board)])       \n",
    "        move = np.argmax(new_q(q[str(game.board)], legal_moves))\n",
    "        game.update_board(1, move)\n",
    "\n",
    "    def h_turn(game):\n",
    "        ttt.display_board(game.board)\n",
    "        move = input('Where would you like to play (0-8): ')\n",
    "        game.update_board(2, int(move))\n",
    "\n",
    "    first = random.randint(1,2)\n",
    "#     Switch these out for AI first or random first\n",
    "#     p_order = [1, 2]\n",
    "    p_order = [first, 3-first]\n",
    "    while (ttt.check_for_win(game.board) == 0):\n",
    "        if (p_order[0] == 1):\n",
    "            p_turn(game)\n",
    "        else:\n",
    "            h_turn(game)\n",
    "        if (ttt.check_for_win(game.board) != 0):\n",
    "            ttt.display_board(game.board)\n",
    "            break\n",
    "        if (p_order[0] == 1):\n",
    "            h_turn(game)\n",
    "        else:\n",
    "            p_turn(game)\n",
    "            \n",
    "    print()\n",
    "    if (ttt.check_for_win(game.board) == 100):\n",
    "        print('AI wins')\n",
    "    elif (ttt.check_for_win(game.board) == -100):\n",
    "        print('You somehow beat the AI')\n",
    "    else:\n",
    "        print('You both played a perfect game. Tie')"
   ]
  },
  {
   "cell_type": "code",
   "execution_count": 5,
   "metadata": {},
   "outputs": [
    {
     "name": "stdout",
     "output_type": "stream",
     "text": [
      "   |   |  \n",
      "-----------\n",
      "   |   |  \n",
      "-----------\n",
      "   |   |  \n",
      "Where would you like to play (0-8): 7\n"
     ]
    },
    {
     "data": {
      "text/html": [
       "<table><tr><td>&blk14; | &blk14; | &blk14;<br/>-----------<br/>&blk14; | &blk14; | &blk14;<br/>-----------<br/>&blk14; | O | &blk14;</td><td><img src=\"data:image/png;base64,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\"/></td></tr></table>"
      ],
      "text/plain": [
       "<IPython.core.display.HTML object>"
      ]
     },
     "metadata": {},
     "output_type": "display_data"
    },
    {
     "name": "stdout",
     "output_type": "stream",
     "text": [
      "   |   |  \n",
      "-----------\n",
      "   | X |  \n",
      "-----------\n",
      "   | O |  \n",
      "Where would you like to play (0-8): 8\n"
     ]
    },
    {
     "data": {
      "text/html": [
       "<table><tr><td>&blk14; | &blk14; | &blk14;<br/>-----------<br/>&blk14; | X | &blk14;<br/>-----------<br/>&blk14; | O | O</td><td><img src=\"data:image/png;base64,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\"/></td></tr></table>"
      ],
      "text/plain": [
       "<IPython.core.display.HTML object>"
      ]
     },
     "metadata": {},
     "output_type": "display_data"
    },
    {
     "name": "stdout",
     "output_type": "stream",
     "text": [
      "   |   |  \n",
      "-----------\n",
      "   | X |  \n",
      "-----------\n",
      " X | O | O\n",
      "Where would you like to play (0-8): 0\n"
     ]
    },
    {
     "data": {
      "text/html": [
       "<table><tr><td>O | &blk14; | &blk14;<br/>-----------<br/>&blk14; | X | &blk14;<br/>-----------<br/>X | O | O</td><td><img src=\"data:image/png;base64,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\"/></td></tr></table>"
      ],
      "text/plain": [
       "<IPython.core.display.HTML object>"
      ]
     },
     "metadata": {},
     "output_type": "display_data"
    },
    {
     "name": "stdout",
     "output_type": "stream",
     "text": [
      "\n",
      "AI wins\n"
     ]
    },
    {
     "data": {
      "text/plain": [
       "<Figure size 432x288 with 0 Axes>"
      ]
     },
     "metadata": {},
     "output_type": "display_data"
    }
   ],
   "source": [
    "human_play()"
   ]
  },
  {
   "cell_type": "code",
   "execution_count": null,
   "metadata": {},
   "outputs": [],
   "source": []
  }
 ],
 "metadata": {
  "kernelspec": {
   "display_name": "Python 3",
   "language": "python",
   "name": "python3"
  },
  "language_info": {
   "codemirror_mode": {
    "name": "ipython",
    "version": 3
   },
   "file_extension": ".py",
   "mimetype": "text/x-python",
   "name": "python",
   "nbconvert_exporter": "python",
   "pygments_lexer": "ipython3",
   "version": "3.6.7"
  }
 },
 "nbformat": 4,
 "nbformat_minor": 2
}
