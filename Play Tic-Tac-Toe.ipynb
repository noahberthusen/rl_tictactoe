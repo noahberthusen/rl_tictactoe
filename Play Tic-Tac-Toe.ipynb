{
 "cells": [
  {
   "cell_type": "code",
   "execution_count": 1,
   "metadata": {},
   "outputs": [],
   "source": [
    "import numpy as np\n",
    "import random\n",
    "import json"
   ]
  },
  {
   "cell_type": "code",
   "execution_count": 2,
   "metadata": {},
   "outputs": [],
   "source": [
    "#Basic tic tac toe class\n",
    "class ttt:\n",
    "    def __init__(self):\n",
    "        self.board = np.array([None] * 9)\n",
    "\n",
    "    @staticmethod\n",
    "    def check_for_win(board):\n",
    "        WIN_STATES = [\n",
    "            (0,1,2),\n",
    "            (3,4,5),\n",
    "            (6,7,8),\n",
    "            (0,3,6),\n",
    "            (1,4,7),\n",
    "            (2,5,8),\n",
    "            (0,4,8),\n",
    "            (2,4,6)\n",
    "        ]\n",
    "\n",
    "        for a, b, c in WIN_STATES:\n",
    "            if board[a] == board[b] == board[c] and board[a] == 1:\n",
    "                return 100\n",
    "            elif board[a] == board[b] == board[c] and board[a] == 2:\n",
    "                return -100\n",
    "        if len(ttt.legal_moves(board)) == 0:\n",
    "            return 50\n",
    "        else:\n",
    "            return 0\n",
    "    \n",
    "    @staticmethod\n",
    "    def legal_moves(board):\n",
    "        return np.asarray(np.where(board == None)).flatten()\n",
    "\n",
    "    def update_board(self, player, move):\n",
    "        self.board[move] = player\n",
    "        return self.check_for_win(self.board)      \n",
    "\n",
    "    @staticmethod\n",
    "    def display_board(board):\n",
    "        def convert_board(board):\n",
    "            readable_board = [' '] * 9\n",
    "            for i in range(len(board)):\n",
    "                if board[i] == 1:\n",
    "                    readable_board[i] = 'X'\n",
    "                elif board[i] == 2:\n",
    "                    readable_board[i] = 'O'\n",
    "            return readable_board\n",
    "        board = convert_board(board)\n",
    "        print(' {:1} | {:1} | {:1}'.format(board[0],board[1],board[2]))\n",
    "        print('-----------')\n",
    "        print(' {:1} | {:1} | {:1}'.format(board[3],board[4],board[5]))\n",
    "        print('-----------')\n",
    "        print(' {:1} | {:1} | {:1}'.format(board[6],board[7],board[8]))"
   ]
  },
  {
   "cell_type": "code",
   "execution_count": 3,
   "metadata": {},
   "outputs": [],
   "source": [
    "from IPython.display import display, HTML\n",
    "from base64 import b64encode\n",
    "from io import BytesIO\n",
    "import seaborn as sns\n",
    "import matplotlib.pyplot as plt\n",
    "from matplotlib import cm\n",
    "\n",
    "def display_ai(board, q):\n",
    "    def convert_board(board):\n",
    "            readable_board = [' '] * 9\n",
    "            for i in range(len(board)):\n",
    "                if board[i] == 1:\n",
    "                    readable_board[i] = 'X'\n",
    "                elif board[i] == 2:\n",
    "                    readable_board[i] = 'O'\n",
    "                else:\n",
    "                    readable_board[i] = '&blk14;'\n",
    "            return readable_board\n",
    "    board = convert_board(board)    \n",
    "    heatmap = [[q[0], q[1], q[2]], [q[3], q[4], q[5]], [q[6], q[7], q[8]]]\n",
    "    board = ['{:1} | {:1} | {:1}'.format(board[0],board[1],board[2]),\n",
    "             '-----------',\n",
    "             '{:1} | {:1} | {:1}'.format(board[3],board[4],board[5]),\n",
    "             '-----------',\n",
    "             '{:1} | {:1} | {:1}'.format(board[6],board[7],board[8])]\n",
    "    fig, ax = plt.subplots()\n",
    "    hm = ax.imshow(heatmap, cmap='coolwarm')\n",
    "    cbar_kws={'label': 'Expected Reward'}\n",
    "    cbar = ax.figure.colorbar(hm, ax=ax, **cbar_kws)\n",
    "#     hm = sns.heatmap(heatmap, cmap=sns.diverging_palette(10, 220, sep=80, n=100), cbar_kws={'label': 'Expected Reward'})\n",
    "    figdata = BytesIO()\n",
    "    plt.savefig(figdata, format='png')\n",
    "    plt.clf()\n",
    "    datatable = '<table><tr><td>{1}<br/>{2}<br/>{3}<br/>{4}<br/>{5}</td><td><img src=\"data:image/png;base64,{0}\"/></td></tr></table>'.format(b64encode(figdata.getvalue()).decode(),\n",
    "                                                                                                                                             board[0], board[1], board[2], board[3], board[4])\n",
    "    display(HTML(datatable))     "
   ]
  },
  {
   "cell_type": "code",
   "execution_count": 4,
   "metadata": {},
   "outputs": [],
   "source": [
    "def human_play():\n",
    "#     or 'aifirst.json'\n",
    "#     or 'qtables.json'\n",
    "    with open('randomfirst.json') as f:\n",
    "        q = json.load(f)\n",
    "    game = ttt()\n",
    "\n",
    "    def p_turn(game):\n",
    "        def new_q(q, moves):\n",
    "            new_q = [0] * 9\n",
    "            for i in range(len(q)):\n",
    "                if i not in moves:\n",
    "                    new_q[i] = -200\n",
    "                else:\n",
    "                    new_q[i] = q[i]\n",
    "            return new_q\n",
    "\n",
    "        legal_moves = ttt.legal_moves(game.board)\n",
    "        old_board = game.board.copy() \n",
    "        display_ai(old_board, q[str(old_board)])\n",
    "#         print(q[str(game.board)])       \n",
    "        move = np.argmax(new_q(q[str(game.board)], legal_moves))\n",
    "        game.update_board(1, move)\n",
    "\n",
    "    def h_turn(game):\n",
    "        ttt.display_board(game.board)\n",
    "        move = input('Where would you like to play (0-8): ')\n",
    "        game.update_board(2, int(move))\n",
    "\n",
    "    first = random.randint(1,2)\n",
    "#     Switch these out for AI first or random first\n",
    "#     p_order = [1, 2]\n",
    "    p_order = [first, 3-first]\n",
    "    while (ttt.check_for_win(game.board) == 0):\n",
    "        if (p_order[0] == 1):\n",
    "            p_turn(game)\n",
    "        else:\n",
    "            h_turn(game)\n",
    "        if (ttt.check_for_win(game.board) != 0):\n",
    "            ttt.display_board(game.board)\n",
    "            break\n",
    "        if (p_order[0] == 1):\n",
    "            h_turn(game)\n",
    "        else:\n",
    "            p_turn(game)\n",
    "            \n",
    "    print()\n",
    "    if (ttt.check_for_win(game.board) == 100):\n",
    "        print('AI wins')\n",
    "    elif (ttt.check_for_win(game.board) == -100):\n",
    "        print('You somehow beat the AI')\n",
    "    else:\n",
    "        print('You both played a perfect game. Tie')"
   ]
  },
  {
   "cell_type": "code",
   "execution_count": 5,
   "metadata": {
    "tags": []
   },
   "outputs": [
    {
     "name": "stdout",
     "output_type": "stream",
     "text": [
      "   |   |  \n",
      "-----------\n",
      "   |   |  \n",
      "-----------\n",
      "   |   |  \n",
      "Where would you like to play (0-8): 4\n"
     ]
    },
    {
     "data": {
      "text/html": [
       "<table><tr><td>&blk14; | &blk14; | &blk14;<br/>-----------<br/>&blk14; | O | &blk14;<br/>-----------<br/>&blk14; | &blk14; | &blk14;</td><td><img src=\"data:image/png;base64,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\"/></td></tr></table>"
      ],
      "text/plain": [
       "<IPython.core.display.HTML object>"
      ]
     },
     "metadata": {},
     "output_type": "display_data"
    },
    {
     "name": "stdout",
     "output_type": "stream",
     "text": [
      " X |   |  \n",
      "-----------\n",
      "   | O |  \n",
      "-----------\n",
      "   |   |  \n",
      "Where would you like to play (0-8): 7\n"
     ]
    },
    {
     "data": {
      "text/html": [
       "<table><tr><td>X | &blk14; | &blk14;<br/>-----------<br/>&blk14; | O | &blk14;<br/>-----------<br/>&blk14; | O | &blk14;</td><td><img src=\"data:image/png;base64,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\"/></td></tr></table>"
      ],
      "text/plain": [
       "<IPython.core.display.HTML object>"
      ]
     },
     "metadata": {},
     "output_type": "display_data"
    },
    {
     "name": "stdout",
     "output_type": "stream",
     "text": [
      " X | X |  \n",
      "-----------\n",
      "   | O |  \n",
      "-----------\n",
      "   | O |  \n",
      "Where would you like to play (0-8): 2\n"
     ]
    },
    {
     "data": {
      "text/html": [
       "<table><tr><td>X | X | O<br/>-----------<br/>&blk14; | O | &blk14;<br/>-----------<br/>&blk14; | O | &blk14;</td><td><img src=\"data:image/png;base64,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\"/></td></tr></table>"
      ],
      "text/plain": [
       "<IPython.core.display.HTML object>"
      ]
     },
     "metadata": {},
     "output_type": "display_data"
    },
    {
     "name": "stdout",
     "output_type": "stream",
     "text": [
      " X | X | O\n",
      "-----------\n",
      "   | O |  \n",
      "-----------\n",
      " X | O |  \n",
      "Where would you like to play (0-8): 3\n"
     ]
    },
    {
     "data": {
      "text/html": [
       "<table><tr><td>X | X | O<br/>-----------<br/>O | O | &blk14;<br/>-----------<br/>X | O | &blk14;</td><td><img src=\"data:image/png;base64,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\"/></td></tr></table>"
      ],
      "text/plain": [
       "<IPython.core.display.HTML object>"
      ]
     },
     "metadata": {},
     "output_type": "display_data"
    },
    {
     "name": "stdout",
     "output_type": "stream",
     "text": [
      " X | X | O\n",
      "-----------\n",
      " O | O | X\n",
      "-----------\n",
      " X | O |  \n",
      "Where would you like to play (0-8): 8\n",
      " X | X | O\n",
      "-----------\n",
      " O | O | X\n",
      "-----------\n",
      " X | O | O\n",
      "\n",
      "You both played a perfect game. Tie\n"
     ]
    },
    {
     "data": {
      "text/plain": [
       "<Figure size 432x288 with 0 Axes>"
      ]
     },
     "metadata": {},
     "output_type": "display_data"
    },
    {
     "data": {
      "text/plain": [
       "<Figure size 432x288 with 0 Axes>"
      ]
     },
     "metadata": {},
     "output_type": "display_data"
    },
    {
     "data": {
      "text/plain": [
       "<Figure size 432x288 with 0 Axes>"
      ]
     },
     "metadata": {},
     "output_type": "display_data"
    },
    {
     "data": {
      "text/plain": [
       "<Figure size 432x288 with 0 Axes>"
      ]
     },
     "metadata": {},
     "output_type": "display_data"
    }
   ],
   "source": [
    "human_play()"
   ]
  },
  {
   "cell_type": "code",
   "execution_count": null,
   "metadata": {},
   "outputs": [],
   "source": []
  }
 ],
 "metadata": {
  "kernelspec": {
   "display_name": "Python 3",
   "language": "python",
   "name": "python3"
  },
  "language_info": {
   "codemirror_mode": {
    "name": "ipython",
    "version": 3
   },
   "file_extension": ".py",
   "mimetype": "text/x-python",
   "name": "python",
   "nbconvert_exporter": "python",
   "pygments_lexer": "ipython3",
   "version": "3.6.7"
  }
 },
 "nbformat": 4,
 "nbformat_minor": 2
}
