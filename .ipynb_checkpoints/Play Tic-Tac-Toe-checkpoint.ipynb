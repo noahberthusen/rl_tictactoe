{
 "cells": [
  {
   "cell_type": "code",
   "execution_count": 1,
   "metadata": {},
   "outputs": [],
   "source": [
    "import numpy as np\n",
    "import random\n",
    "import json"
   ]
  },
  {
   "cell_type": "code",
   "execution_count": 31,
   "metadata": {},
   "outputs": [],
   "source": [
    "#Basic tic tac toe class\n",
    "class ttt:\n",
    "    def __init__(self):\n",
    "        self.board = np.array([None] * 9)\n",
    "\n",
    "    @staticmethod\n",
    "    def check_for_win(board):\n",
    "        WIN_STATES = [\n",
    "            (0,1,2),\n",
    "            (3,4,5),\n",
    "            (6,7,8),\n",
    "            (0,3,6),\n",
    "            (1,4,7),\n",
    "            (2,5,8),\n",
    "            (0,4,8),\n",
    "            (2,4,6)\n",
    "        ]\n",
    "\n",
    "        for a, b, c in WIN_STATES:\n",
    "            if board[a] == board[b] == board[c] and board[a] == 1:\n",
    "                return 100\n",
    "            elif board[a] == board[b] == board[c] and board[a] == 2:\n",
    "                return -100\n",
    "        if len(ttt.legal_moves(board)) == 0:\n",
    "            return 50\n",
    "        else:\n",
    "            return 0\n",
    "    \n",
    "    @staticmethod\n",
    "    def legal_moves(board):\n",
    "        return np.asarray(np.where(board == None)).flatten()\n",
    "\n",
    "    def update_board(self, player, move):\n",
    "        self.board[move] = player\n",
    "        return self.check_for_win(self.board)      \n",
    "\n",
    "    @staticmethod\n",
    "    def display_board(board):\n",
    "        def convert_board(board):\n",
    "            readable_board = [' '] * 9\n",
    "            for i in range(len(board)):\n",
    "                if board[i] == 1:\n",
    "                    readable_board[i] = 'X'\n",
    "                elif board[i] == 2:\n",
    "                    readable_board[i] = 'O'\n",
    "            return readable_board\n",
    "        board = convert_board(board)\n",
    "        print(' {:1} | {:1} | {:1}'.format(board[0],board[1],board[2]))\n",
    "        print('-----------')\n",
    "        print(' {:1} | {:1} | {:1}'.format(board[3],board[4],board[5]))\n",
    "        print('-----------')\n",
    "        print(' {:1} | {:1} | {:1}'.format(board[6],board[7],board[8]))"
   ]
  },
  {
   "cell_type": "code",
   "execution_count": 50,
   "metadata": {},
   "outputs": [],
   "source": [
    "from IPython.display import display, HTML\n",
    "from base64 import b64encode\n",
    "from io import BytesIO\n",
    "import seaborn as sns\n",
    "import matplotlib.pyplot as plt\n",
    "\n",
    "def display_ai(board, q):\n",
    "    def convert_board(board):\n",
    "            readable_board = [' '] * 9\n",
    "            for i in range(len(board)):\n",
    "                if board[i] == 1:\n",
    "                    readable_board[i] = 'X'\n",
    "                elif board[i] == 2:\n",
    "                    readable_board[i] = 'O'\n",
    "                else:\n",
    "                    readable_board[i] = '&blk14;'\n",
    "            return readable_board\n",
    "    board = convert_board(board)    \n",
    "    heatmap = [[q[0], q[1], q[2]], [q[3], q[4], q[5]], [q[6], q[7], q[8]]]\n",
    "    board = ['{:1} | {:1} | {:1}'.format(board[0],board[1],board[2]),\n",
    "             '-----------',\n",
    "             '{:1} | {:1} | {:1}'.format(board[3],board[4],board[5]),\n",
    "             '-----------',\n",
    "             '{:1} | {:1} | {:1}'.format(board[6],board[7],board[8])]\n",
    "    \n",
    "    hm = sns.heatmap(heatmap, cmap=sns.diverging_palette(10, 220, sep=80, n=100), cbar_kws={'label': 'Expected Reward'})\n",
    "    figdata = BytesIO()\n",
    "    plt.savefig(figdata, format='png')\n",
    "    plt.clf()\n",
    "    datatable = '<table><tr><td>{1}<br/>{2}<br/>{3}<br/>{4}<br/>{5}</td><td><img src=\"data:image/png;base64,{0}\"/></td></tr></table>'.format(b64encode(figdata.getvalue()).decode(),\n",
    "                                                                                                                                             board[0], board[1], board[2], board[3], board[4])\n",
    "    display(HTML(datatable))     "
   ]
  },
  {
   "cell_type": "code",
   "execution_count": 33,
   "metadata": {},
   "outputs": [],
   "source": [
    "def human_play():\n",
    "#     or 'aifirst.json'\n",
    "#     or 'qtables.json'\n",
    "    with open('randomfirst.json') as f:\n",
    "        q = json.load(f)\n",
    "    game = ttt()\n",
    "\n",
    "    def p_turn(game):\n",
    "        def new_q(q, moves):\n",
    "            new_q = [0] * 9\n",
    "            for i in range(len(q)):\n",
    "                if i not in moves:\n",
    "                    new_q[i] = -200\n",
    "                else:\n",
    "                    new_q[i] = q[i]\n",
    "            return new_q\n",
    "\n",
    "        legal_moves = ttt.legal_moves(game.board)\n",
    "        old_board = game.board.copy() \n",
    "        display_ai(old_board, q[str(old_board)])\n",
    "#         print(q[str(game.board)])       \n",
    "        move = np.argmax(new_q(q[str(game.board)], legal_moves))\n",
    "        game.update_board(1, move)\n",
    "\n",
    "    def h_turn(game):\n",
    "        ttt.display_board(game.board)\n",
    "        move = input('Where would you like to play (0-8): ')\n",
    "        game.update_board(2, int(move))\n",
    "\n",
    "    first = random.randint(1,2)\n",
    "#     Switch these out for AI first or random first\n",
    "#     p_order = [1, 2]\n",
    "    p_order = [first, 3-first]\n",
    "    while (ttt.check_for_win(game.board) == 0):\n",
    "        if (p_order[0] == 1):\n",
    "            p_turn(game)\n",
    "        else:\n",
    "            h_turn(game)\n",
    "        if (ttt.check_for_win(game.board) != 0):\n",
    "            ttt.display_board(game.board)\n",
    "            break\n",
    "        if (p_order[0] == 1):\n",
    "            h_turn(game)\n",
    "        else:\n",
    "            p_turn(game)\n",
    "            \n",
    "    print()\n",
    "    if (ttt.check_for_win(game.board) == 100):\n",
    "        print('AI wins')\n",
    "    elif (ttt.check_for_win(game.board) == -100):\n",
    "        print('You somehow beat the AI')\n",
    "    else:\n",
    "        print('You both played a perfect game. Tie')"
   ]
  },
  {
   "cell_type": "code",
   "execution_count": 53,
   "metadata": {},
   "outputs": [
    {
     "name": "stdout",
     "output_type": "stream",
     "text": [
      "   |   |  \n",
      "-----------\n",
      "   |   |  \n",
      "-----------\n",
      "   |   |  \n",
      "Where would you like to play (0-8): 0\n"
     ]
    },
    {
     "data": {
      "text/html": [
       "<table><tr><td>O | &blk14; | &blk14;<br/>-----------<br/>&blk14; | &blk14; | &blk14;<br/>-----------<br/>&blk14; | &blk14; | &blk14;</td><td><img src=\"data:image/png;base64,iVBORw0KGgoAAAANSUhEUgAAAbAAAAEgCAYAAADVKCZpAAAABHNCSVQICAgIfAhkiAAAAAlwSFlzAAALEgAACxIB0t1+/AAAADl0RVh0U29mdHdhcmUAbWF0cGxvdGxpYiB2ZXJzaW9uIDIuMi4zLCBodHRwOi8vbWF0cGxvdGxpYi5vcmcvIxREBQAAGBZJREFUeJzt3XtwVPX9//HXhiT4hZAilWBgKRCINlzSCAmXKgilKRUiDJoiFCVc1zL+phTtjKWXqVSmIdYy3FRchslgsaQVCqhFOlwLhSo3g7QIRCQV0vxELmkSbgnJ+f3hrzsGjOQrZ885n5PnY2Zn2LO757xzhskr78/57OcELMuyBACAYWLcLgAAgC+DAAMAGIkAAwAYiQADABiJAAMAGIkAAwAYiQADABiJAAMAGIkAAwAYiQADABiJAAMAGIkAAwAYiQADABiJAAMAGIkAAwAYiQADABiJAAMAGIkAAwAYiQADABiJAAMAGIkAAwAYiQADABiJAAMAGIkAAwAYiQADABiJAAMAGIkAAwAYiQADABiJAAMAGIkAAwAYiQADABiJAAMAGIkAAwAYiQADABgp1u0CoqXkvhFul+B7ZctfcrsE3ztbWe12Cc1C7oD0W97H0GeWNul9O575P7d8LHyKDgwAYCTfdmAA4KQWLegHnMYZBwAYiQ4MAGzQMpZfp06jAwMAGIkAAwAYiZ4XAGwQyyQOx3HGAQBGogMDABvEx7Zwu4Rmhw4MAGAkOjAAsEFsDB2Y0+jAAABGogMDABvEx9GBOY0ODABgJDowALBBfAs6MKfRgQEAjEQHBgA2iKUDcxwdGADASAQYAMBIDCECgA1YSsp5dGAAACPRgQGADZjE4Tw6MACAkejAAMAGXANzHh0YAMBIdGAAYIP4WH6dOo0ODABgJP5kAAAbxLagH3AaZxwAYCQ6MACwAbMQnUcHBgAwEgEGADCSZ4cQjx49qg0bNqisrEyBQEAdO3bU6NGjlZaW5nZpAHADlpJynic7sIKCAo0fP16WZal///7KysqSZVmaMGGC5s+f73Z5ABBVFRUVys3N1de//nWlpaXp73//u86fP6/s7GylpqYqOztbFy5ccLtM1wUsy7LcLuJ6d911l/75z38qLi6uwfaamhr16tVLJSUlN91HyX0jolUe/r+y5S+5XYLvna2sdruEZiF3QPot72Pxpl1Net8Pvzv4pu/Jy8vT4MGDNX36dNXU1OjSpUv69a9/rXbt2uknP/mJ5s+frwsXLqigoOBWyzaaJzuwmJgY/fvf/75he3l5uWJiGi85HA4rMzNTmZmZKvq/p6NZIgBERWVlpXbu3Klp06ZJkuLj49W2bVtt2LBBeXl5kj4NuPXr17tZpid48hrYwoULNXz4cKWmpqpz586SpI8++kgffPCBli5d2ujnQqGQQqGQJDowAM6KjbHnGtiHH36o9u3ba8qUKTp06JD69eunRYsW6eOPP1ZycrIkKTk5WWfOnLHleCbzZIB997vf1fHjx7V3716VlZXJsiwFg0FlZWWpBRdKARgsHA4rHA5Hnn/2D29Junbtmg4ePKglS5ZowIABmjVrFtf+G+HJAJM+HUYcOHCg22UAQJPExzXtj+vp1wXW9YLBoILBoAYMGCBJys3N1fz589WhQweVl5crOTlZ5eXlSkpKsqVuk3nyGhgANFd33nmnOnfurGPHjkmStm7dqp49e2r06NFauXKlJGnlypUaM2aMm2V6gmc7MAAwiZ23U1myZIkmTpyompoapaSkqLCwUPX19Ro3bpxWrFihr33ta3rttddsO56pCDAA8JiMjAzt37//hu1bt251oRrvYggRAGAkOjAAsAH3A3MeZxwAYCQ6MACwQTzfUXUcHRgAwEh0YABgA26n4jw6MACAkejAAMAG8bF0YE6jAwMAGIkODABsYOdSUmgaOjAAgJH4kwEAbMBKHM7jjAMAjESAAQCMxBAiANigJZM4HEcHBgAwEn8yAIANmMThPM44AMBIdGAAYIM4lpJyHB0YAMBIdGAAYIPYGPoBp3HGAQBGogMDABvEx/Hr1GmccQDwiT/96U9f+PpDDz3kUCXOIMAAwAZeuKHlG2+8IUk6c+aM9uzZo29961uSpO3bt2vo0KEEGADAmwoLCyVJOTk5OnLkiJKTkyVJ5eXleuKJJ9wsLSqYxAEAPlNaWhoJL0nq0KGDjh8/7mJF0UEHBgA2iItxfwjxv4YOHaoRI0ZowoQJCgQCKioq0rBhw9wuy3YEGAD4zNKlS7Vu3Trt3LlTkhQKhTR27FiXq7JfwLIsy+0ioqGqqsrtEnzvwd+udLsE33vjqTy3S2gW2rRpc8v7+KT6UpPe1z6h1S0f64vU1dVpxIgR2rJlS1SP4wVcAwMAH2nRooVatWql//znP26XEnUMIQKADVp4aCmp2267TX369FF2drZat24d2b548WIXq7IfAQYAPjNq1CiNGjXK7TKijgADABvE1dU28Z23RbUOScrLax7XTgkwAPCZkpISzZkzR0eOHNGVK1ci2z/88EMXq7KfdwZtAQC2mDJlimbOnKnY2Fht375dkyZN0mOPPeZ2WbYjwADAg+rq6nTPPfcoJydHkjR58mR169ZNGRkZysjIUHFxcaOfvXz5soYPHy7LstSlSxc988wz2rZtm1OlO4YhRADwoEWLFiktLU2VlZWRbb/5zW+Um5t708/edtttqq+vV2pqqpYuXapOnTrpzJkz0SzXFXRgAOAxp0+f1p///GdNnz79S31+4cKFunTpkhYvXqwDBw5o1apVWrnSfwsPEGAA4DE/+tGP9Nxzzynmuu+W/exnP1N6erpmz56tq1evNvr5r371q0pISFAwGFRhYaHWrl2rgQMHRrtsxxFgAOCgcDiszMzMyCMcDjd4/c0331RSUpL69evXYHt+fr6OHj2qffv26fz58yooKGj0GJMnT1b37t01fvx4vfjiizp8+HBUfha3cQ0MABwUCoUUCoUafX337t16/fXXtXHjRl25ckWVlZV69NFHtWrVKklSy5YtNWXKFD3//PON7mPnzp2qqanRvn37tGPHDo0aNUrV1dU6f/687T+PmwgwAPCQ/Px85efnS5J27Nih559/XqtWrVJ5ebmSk5NlWZbWr1+v3r17N7qPv/3tb9q1a5d27dqliooK5eTkaPDgwU79CI4hwADAABMnTtQnn3wiy7KUkZGhZcuWNfre+++/X5mZmZozZ45Gjhyp+Ph4Byt1DrdTwZfG7VSij9upOMOO26k09XeOHce6mYqKCu3evVs7d+7Uvn37FBMTo0GDBunZZ5+N+rGdRAcGAD7Ttm1bpaSk6NSpUzp9+rT27Nmj2tqmrtVoDgIMAHyme/fuuvvuu3XffffpBz/4gQoLC305jEiAAYDPlJSU3PAdMj/y/08IAM3MBx98oOHDh0dmKr733nuaN2+ey1XZjwADAJ+ZMWOG8vPzFRcXJ0lKT09XUVGRy1XZjwADAJ+5dOmS+vfv32BbbKz/rhgRYADgM3fccYdOnDihQCAgSVqzZo2Sk5Ndrsp+/otkAGjmXnjhBYVCIR09elSdOnVSt27dIktR+QkBBgA+k5KSoi1btujixYuqr6935MvTbmAIEQB8pK6uTmfPnpUktW7dWi1bttTy5cuVlpbmcmX2I8AAwCeKiorUrl07paen6/7779f27duVkpKijRs36tVXX3W7PNsxhAgAPjFv3jwdOHBAPXr00MGDBzVo0CAVFRVp7NixbpcWFXRgAOAT8fHx6tGjhySpb9++6tatm2/DS6IDAwDfOHPmjBYsWBB5Xl1d3eD5k08+6UZZUUOAAYBPzJgxo8FtXa5/7jcEGAD4xC9/+Uu3S3AU18AAAEYiwAAARiLAAABGMu4aWGFhoaZMmeJ2GQDgOZ+dcfh5/DYL0bgO7IsuUobDYWVmZiozM1OFhYUOVgUA7quqqlJVVZX279+vl156SWVlZSorK9OyZct05MgRt8uzXcCyLMvtIq6Xnp7+udsty9Lx48d19erVm+7Dz1NHveLB3650uwTfe+OpPLdLaBbsWOy2qb9znFhY9zvf+Y7Wrl0bOVZVVZW+973vadOmTVE/tpM8OYT48ccf6y9/+Ytuv/32Btsty9I3v/lNl6oCADN89NFHio+PjzyPj49XaWmpewVFiScDLCcnR9XV1crIyLjhtaFDhzpfEAAY5LHHHlP//v01duxYBQIBrVu3TpMmTXK7LNt5cgjRDgwhRh9DiNHHEKIz/DaEKEkHDx7Url27JElDhgzRPffc48hxnWTcJA4AwM1dunRJiYmJmjVrloLBoE6ePOl2SbYjwADAZ+bOnauCggLl5+dLkmpra/Xoo4+6XJX9CDAA8Jl169bp9ddfV+vWrSVJHTt29OVlFQIMAHwmPj5egUBAgUBAknTx4kWXK4oOAgwAfGbcuHF6/PHHVVFRoeXLl+vb3/62pk+f7nZZtvPkNHoAwJf34x//WJs3b1ZiYqKOHTumX/3qV8rOzna7LNsRYADgM08//bQKCgoahNZ/t/kJQ4gA4DObN2++Ydtbb73lQiXRRQcGAD7x0ksv6cUXX9SJEycarClbVVXly2X4CDAA8Invf//7euCBBzRnzhzNnz8/sr1NmzZq166di5VFB0OIAOAhV65cUf/+/fWNb3xDvXr1itxC6uTJkxowYIBSU1P1yCOPqKam5obPfuUrX1HXrl01a9YstWvXTl26dFGXLl0UFxend955x+kfJeoIMADwkJYtW2rbtm06dOiQiouLtWnTJr399tt6+umnNXv2bJWUlOj222/XihUrGt3HzJkzlZCQEHneunVrzZw504nyHUWAAYCHBAKBSPjU1taqtrZWgUBA27ZtU25uriQpLy9P69evb3QflmVFvsQsSTExMbp27Vp0C3cBAQYAHlNXV6eMjAwlJSUpOztb3bt3V9u2bRUb++m0hWAwqLKyskY/n5KSosWLF0cCcNGiRUpJSXGqfMcQYADgoHA4rMzMzMgjHA7f8J4WLVqouLhYp0+f1t69e/X+++/f8J7PdljXW7Zsmfbs2aNOnTopGAzqnXfe+dzjmI5ZiADgoFAopFAo1KT3tm3bVkOHDtXbb7+tiooKXbt2TbGxsTp9+rQ6duzY6OeSkpJUVFRkV8meRQcGAB7yySefqKKiQpJ0+fJlbdmyRWlpaRo2bJjWrFkjSVq5cqXGjBnT6D6OHz+u4cOHq3fv3pKk9957T/PmzYt+8Q4jwADAQ8rLyzVs2DClp6crKytL2dnZysnJUUFBgRYsWKAePXro3LlzmjZtWqP7mDFjhvLz8xUXFydJSk9P92VHxhAiAHhIenq63n333Ru2p6SkaO/evU3ax6VLl9S/f/8G2/47AcRP6MAAwGfuuOMOnThxIjLRY82aNUpOTna5Kvv5L5IBoJl74YUXFAqFdPToUXXq1EndunXTq6++6nZZtiPAAMBnUlJStGXLFl28eFH19fVq06aN2yVFBUOIAOAz586d0w9/+EMNHjxYQ4cO1axZs3Tu3Dm3y7IdAQYAPjN+/Hi1b99ea9eu1Zo1a9S+fXs98sgjbpdlO4YQAcBnzp8/r1/84heR5z//+c+/cO1EU9GBAYDPDBs2TEVFRaqvr1d9fb3++Mc/atSoUW6XZbuAZVmW20VEQ1VVldsl+N6Dv13pdgm+98ZTeW6X0CzYMcmhqb9znJhQ0aZNG128eFEtWrSQ9OniwK1bt5b06RqKlZWVUa/BCQwhAoDPNJc/4BlCBAAb/M+Vq016OOH6m13W1dVp7ty5jhzbSQQYAPjM1q1bNXLkSJWXl+vw4cMaOHCgL7syhhABwGd+//vf6w9/+IP69OmjVq1aafXq1br33nvdLst2vp3EsbH4qNsl+N7g7p3cLgGwhR0TK2rLP27S++KSO9zysW6mpKREeXl56tOnj95//3317NlTCxYsUKtWraJ+bCcxhAgAPvPggw/q2Wef1csvv6y//vWvSk1NVVZWlttl2Y4ODF8aHRj8wo4OrOZfp5r0vvgunW/5WDdTWVmpxMTEBttKSkqUmpoa9WM7iQ4MAHziueeekyQlJibqtddea/BaYWGhGyVFFQEGADawrl1r0iOaPnvX5fz8/Aavbdq0KarHdgMBBgA+8dkrQtdfHfLj1SKm0QOADayaGrdLiNyB+fp/f95zPyDAAMAnDh06pMTERFmWpcuXL0cmcliWpStXrrhcnf0IMACwgXXV/Q6srq7O7RIcxTUwAICR6MAAwAbRnmGIG9GBAQCMRIABAIzEECIA2MCqrXW7hGaHDgwAYCQ6MACwAZM4nEcHBgAwEh0YANjAquEamNPowAAARqIDAwAbWLVcA3MaHRgAwEh0YABgAy/cTqW5oQMDABiJDgwAbEAH5jw6MADwmKlTpyopKUm9e/eObHvmmWfUqVMnZWRkKCMjQxs3bnSxQm8gwADAYyZPnqxNmzbdsH327NkqLi5WcXGxRo4c6UJl3sIQIgDYwM6lpIYMGaLS0lLb9udXdGAAYIilS5cqPT1dU6dO1YULF9wux3UEGADYwKqpbdIjHA4rMzMz8giHw03a/8yZM3XixAkVFxcrOTlZTz31VJR/Iu9jCBEAHBQKhRQKhf7Xn+vQoUPk3zNmzFBOTo6dZRmJDgwA7HDtWtMeX1J5eXnk3+vWrWswQ7G5ogMDAI+ZMGGCduzYobNnzyoYDGru3LnasWOHiouLFQgE1LVrV7388stul+k6AgwAbFBv4xeZV69efcO2adOm2bZ/v2AIEQBgJM8G2NGjR7V161ZVV1c32P55X+4DALc1dRYi7OPJAFu8eLHGjBmjJUuWqHfv3tqwYUPktZ/+9KcuVgYA8ApPXgNbvny5Dhw4oISEBJWWlio3N1elpaWaNWuWLMtyuzwAgAd4MsDq6uqUkJAgSeratat27Nih3Nxc/etf//rCAAuHw5EvBQ56YLQeeHicI/UCgJ1LSaFpPDmEeOedd6q4uDjyPCEhQW+++abOnj2rw4cPN/q5UCik/fv3a//+/YQXAPicJzuwV155RbGxDUuLjY3VK6+8oscff9ylqgCgcdwPzHmeDLBgMNjoa/fee6+DlQAAvMqTAQYAxuEamOM8eQ0MAICboQMDABvU8yVlx9GBAQCMRAcGAHbgGpjj6MAAAEaiAwMAG/A9MOfRgQEAjESAAQCMxBAiANiAafTOowMDABiJDgwA7MA0esfRgQEAjEQHBgA2qL/KNHqn0YEBAIxEBwYAduAamOPowAAARqIDAwAbWLV8D8xpdGAAACPRgQGADepZzNdxdGAAACMRYAAAIzGECAB2qGUavdPowAAARqIDAwAbMInDeXRgAAAj0YEBgB1YSspxdGAAACMRYABgA6umtkmPpti0aZPuvvtu9ejRQ/Pnz49y5eYiwADAQ+rq6vTEE0/orbfe0pEjR7R69WodOXLE7bI8iQADABtYddea9LiZvXv3qkePHkpJSVF8fLzGjx+vDRs2OPATmIcAAwAPKSsrU+fOnSPPg8GgysrKXKzIu3w7C3FkxtfdLuF/LRwOKxQKuV2Gr3GOo6+5nuPUv/2lSe8Lh8MKh8OR56FQqMH5sizrhs8EAoFbL9CH6MA85LP/qREdnOPo4xx/sVAopP3790ce14d9MBjUqVOnIs9Pnz6tjh07Ol2mEQgwAPCQrKwslZSU6OTJk6qpqVFRUZFGjx7tdlme5NshRAAwUWxsrJYuXaoRI0aorq5OU6dOVa9evdwuy5MIMA9pjtcNnMY5jj7O8a0bOXKkRo4c6XYZnhewPu+KIQAAHsc1MACAkQgwD2DZmOibOnWqkpKS1Lt3b7dL8a1Tp05p2LBhSktLU69evbRo0SK3S4LPMYTosrq6Ot11113avHmzgsGgsrKytHr1avXs2dPt0nxl586dSkhI0KRJk/SPf/zD7XJ8qby8XOXl5erbt6+qqqrUr18/rV+/nv/LiBo6MJexbIwzhgwZonbt2rldhq8lJyerb9++kqQ2bdooLS2NFSQQVQSYy1g2Bn5UWlqqd999VwMGDHC7FPgYAeYylo2B31RXV+vhhx/WwoULlZiY6HY58DECzGUsGwM/qa2t1cMPP6yJEyfqoYcecrsc+BwB5jKWjYFfWJaladOmKS0tTU8++aTb5aAZIMBc9tllY9LS0jRu3DiWjYmCCRMmaNCgQTp27JiCwaBWrFjhdkm+s3v3bv3ud7/Ttm3blJGRoYyMDG3cuNHtsuBjTKMHABiJDgwAYCQCDABgJAIMAGAkAgwAYCQCDABgJAIMAGAkAgwAYCQCDABgJAIMAGAkAgwAYCQCDABgJAIMAGAkAgwAYCQCDABgJAIMAGAkAgwAYCQCDABgJAIMAGAkAgwAYCQCDABgpP8H5jf90tEBEAgAAAAASUVORK5CYII=\"/></td></tr></table>"
      ],
      "text/plain": [
       "<IPython.core.display.HTML object>"
      ]
     },
     "metadata": {},
     "output_type": "display_data"
    },
    {
     "name": "stdout",
     "output_type": "stream",
     "text": [
      " O |   |  \n",
      "-----------\n",
      "   | X |  \n",
      "-----------\n",
      "   |   |  \n",
      "Where would you like to play (0-8): 1\n"
     ]
    },
    {
     "data": {
      "text/html": [
       "<table><tr><td>O | O | &blk14;<br/>-----------<br/>&blk14; | X | &blk14;<br/>-----------<br/>&blk14; | &blk14; | &blk14;</td><td><img src=\"data:image/png;base64,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\"/></td></tr></table>"
      ],
      "text/plain": [
       "<IPython.core.display.HTML object>"
      ]
     },
     "metadata": {},
     "output_type": "display_data"
    },
    {
     "name": "stdout",
     "output_type": "stream",
     "text": [
      " O | O | X\n",
      "-----------\n",
      "   | X |  \n",
      "-----------\n",
      "   |   |  \n",
      "Where would you like to play (0-8): 6\n"
     ]
    },
    {
     "data": {
      "text/html": [
       "<table><tr><td>O | O | X<br/>-----------<br/>&blk14; | X | &blk14;<br/>-----------<br/>O | &blk14; | &blk14;</td><td><img src=\"data:image/png;base64,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\"/></td></tr></table>"
      ],
      "text/plain": [
       "<IPython.core.display.HTML object>"
      ]
     },
     "metadata": {},
     "output_type": "display_data"
    },
    {
     "name": "stdout",
     "output_type": "stream",
     "text": [
      " O | O | X\n",
      "-----------\n",
      " X | X |  \n",
      "-----------\n",
      " O |   |  \n",
      "Where would you like to play (0-8): 8\n"
     ]
    },
    {
     "data": {
      "text/html": [
       "<table><tr><td>O | O | X<br/>-----------<br/>X | X | &blk14;<br/>-----------<br/>O | &blk14; | O</td><td><img src=\"data:image/png;base64,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\"/></td></tr></table>"
      ],
      "text/plain": [
       "<IPython.core.display.HTML object>"
      ]
     },
     "metadata": {},
     "output_type": "display_data"
    },
    {
     "name": "stdout",
     "output_type": "stream",
     "text": [
      "\n",
      "AI wins\n"
     ]
    },
    {
     "data": {
      "text/plain": [
       "<Figure size 432x288 with 0 Axes>"
      ]
     },
     "metadata": {},
     "output_type": "display_data"
    }
   ],
   "source": [
    "human_play()"
   ]
  },
  {
   "cell_type": "code",
   "execution_count": null,
   "metadata": {},
   "outputs": [],
   "source": []
  }
 ],
 "metadata": {
  "kernelspec": {
   "display_name": "Python 3",
   "language": "python",
   "name": "python3"
  },
  "language_info": {
   "codemirror_mode": {
    "name": "ipython",
    "version": 3
   },
   "file_extension": ".py",
   "mimetype": "text/x-python",
   "name": "python",
   "nbconvert_exporter": "python",
   "pygments_lexer": "ipython3",
   "version": "3.6.7"
  }
 },
 "nbformat": 4,
 "nbformat_minor": 2
}
